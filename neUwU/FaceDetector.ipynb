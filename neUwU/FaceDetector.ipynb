{
 "cells": [
  {
   "cell_type": "code",
   "execution_count": null,
   "metadata": {},
   "outputs": [],
   "source": [
    "import cv2\n",
    "\n",
    "\n",
    "face_detector = cv2.CascadeClassifier('haarcascade_frontalface_default.xml')\n",
    "cap = cv2.VideoCapture(0)\n",
    "while True:\n",
    "    ret, photo = cap.read()\n",
    "    coords = face_detector.detectMultiScale(photo)\n",
    "    for i in range(len(coords)):\n",
    "        if len(coords)!= 0:\n",
    "            x1 = coords[i][0]\n",
    "            y1 = coords[i][1]\n",
    "            x2 = coords[i][2]+x1\n",
    "            y2 = coords[i][3]+y1\n",
    "            det = cv2.rectangle(photo, (x1, y1), (x2, y2), (225, 0, 0), 3)\n",
    "            cv2.imshow('hi', det)\n",
    "    if cv2.waitKey(1)==13:\n",
    "        break\n",
    "cv2.destroyAllWindows()\n",
    "cap.release()\n",
    "    "
   ]
  },
  {
   "cell_type": "code",
   "execution_count": null,
   "metadata": {},
   "outputs": [],
   "source": [
    "import cv2\n",
    "import numpy\n",
    "\n",
    "face_detector = cv2.CascadeClassifier('haarcascade_frontalface_default.xml')\n",
    "cap = cv2.VideoCapture(0)\n",
    "while True:\n",
    "    ret, photo = cap.read()\n",
    "    coords = face_detector.detectMultiScale(photo)\n",
    "    for i in range(0, len(coords)):\n",
    "        if len(coords)!= 0:\n",
    "            x1 = coords[i][0]\n",
    "            y1 = coords[i][1]\n",
    "            x2 = coords[i][2]+x1\n",
    "            y2 = coords[i][3]+y1\n",
    "            facex = numpy.zeros([x2-x1, y2-y1, 3], dtype=numpy.uint8)\n",
    "            \n",
    "            face1 = photo[y1:y2, x1:x2]\n",
    "            cv2.imshow('hi', face1)\n",
    "               \n",
    "           \n",
    "    if cv2.waitKey(1)==13:\n",
    "        break\n",
    "cv2.destroyAllWindows()\n",
    "cap.release()"
   ]
  },
  {
   "cell_type": "code",
   "execution_count": null,
   "metadata": {},
   "outputs": [],
   "source": [
    "import cv2"
   ]
  },
  {
   "cell_type": "code",
   "execution_count": 16,
   "metadata": {},
   "outputs": [],
   "source": [
    "def swap(photo, x11, x12, y11, y12, x21, x22, y21, y22):\n",
    "    face = photo[y11:y12, x11:x12]\n",
    "    face1 = photo[y21:y22, x21:x22]\n",
    "   \n",
    "    fr1= cv2.resize(face, face1.shape[0:2])\n",
    "   \n",
    "    fr2 = cv2.resize(face1, face.shape[0:2])\n",
    "    \n",
    "    photo[y11:y12, x11:x12]=fr2\n",
    "    \n",
    "    photo[y21:y22, x21:x22] = fr1\n",
    "    return photo\n",
    "            "
   ]
  },
  {
   "cell_type": "code",
   "execution_count": 17,
   "metadata": {},
   "outputs": [],
   "source": [
    "import cv2\n",
    "import numpy\n",
    "\n",
    "face_detector = cv2.CascadeClassifier('haarcascade_frontalface_default.xml')\n",
    "cap = cv2.VideoCapture(0)\n",
    "while True:\n",
    "    ret, photo = cap.read()\n",
    "    coords = face_detector.detectMultiScale(photo)\n",
    "    for i in range(0, len(coords)):\n",
    "        if len(coords)!= 0:\n",
    "            x1 = coords[i][0]\n",
    "            y1 = coords[i][1]\n",
    "            x2 = coords[i][2]+x1\n",
    "            y2 = coords[i][3]+y1\n",
    "            if i == 0:\n",
    "                x11 = x1\n",
    "                x12 = x2\n",
    "                y11 = y1\n",
    "                y12 = y2\n",
    "            elif i == 1:\n",
    "                x21 = x1\n",
    "                x22 = x2\n",
    "                y21 = y1\n",
    "                y22 = y2\n",
    "                cam = swap(photo, x11, x12, y11, y12, x21, x22, y21, y22)\n",
    "                cv2.imshow('hi', cam)\n",
    "            \n",
    "        cam = cv2.rectangle(photo, (x1, y1), (x2, y2), (225, 0, 0), 3)\n",
    "        cv2.imshow('hi', cam)\n",
    "           \n",
    "    if cv2.waitKey(1)==13:\n",
    "        break\n",
    "cv2.destroyAllWindows()\n",
    "cap.release()\n"
   ]
  },
  {
   "cell_type": "code",
   "execution_count": 7,
   "metadata": {},
   "outputs": [],
   "source": [
    "cap.release()"
   ]
  },
  {
   "cell_type": "code",
   "execution_count": null,
   "metadata": {},
   "outputs": [],
   "source": []
  }
 ],
 "metadata": {
  "kernelspec": {
   "display_name": "Python 3",
   "language": "python",
   "name": "python3"
  },
  "language_info": {
   "codemirror_mode": {
    "name": "ipython",
    "version": 3
   },
   "file_extension": ".py",
   "mimetype": "text/x-python",
   "name": "python",
   "nbconvert_exporter": "python",
   "pygments_lexer": "ipython3",
   "version": "3.6.6"
  }
 },
 "nbformat": 4,
 "nbformat_minor": 2
}
